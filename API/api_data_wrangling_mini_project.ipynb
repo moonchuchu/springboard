{
 "cells": [
  {
   "cell_type": "markdown",
   "metadata": {},
   "source": [
    "This exercise will require you to pull some data from the Qunadl API. Qaundl is currently the most widely used aggregator of financial market data."
   ]
  },
  {
   "cell_type": "markdown",
   "metadata": {},
   "source": [
    "As a first step, you will need to register a free account on the http://www.quandl.com website."
   ]
  },
  {
   "cell_type": "markdown",
   "metadata": {},
   "source": [
    "After you register, you will be provided with a unique API key, that you should store:"
   ]
  },
  {
   "cell_type": "code",
   "execution_count": 1,
   "metadata": {},
   "outputs": [],
   "source": [
    "# Store the API key as a string - according to PEP8, constants are always named in all upper case\n",
    "API_KEY = 'LgWgRBMrCYopB69hv2XX'"
   ]
  },
  {
   "cell_type": "markdown",
   "metadata": {},
   "source": [
    "Qaundl has a large number of data sources, but, unfortunately, most of them require a Premium subscription. Still, there are also a good number of free datasets."
   ]
  },
  {
   "cell_type": "markdown",
   "metadata": {},
   "source": [
    "For this mini project, we will focus on equities data from the Frankfurt Stock Exhange (FSE), which is available for free. We'll try and analyze the stock prices of a company called Carl Zeiss Meditec, which manufactures tools for eye examinations, as well as medical lasers for laser eye surgery: https://www.zeiss.com/meditec/int/home.html. The company is listed under the stock ticker AFX_X."
   ]
  },
  {
   "cell_type": "markdown",
   "metadata": {},
   "source": [
    "You can find the detailed Quandl API instructions here: https://docs.quandl.com/docs/time-series"
   ]
  },
  {
   "cell_type": "markdown",
   "metadata": {},
   "source": [
    "While there is a dedicated Python package for connecting to the Quandl API, we would prefer that you use the *requests* package, which can be easily downloaded using *pip* or *conda*. You can find the documentation for the package here: http://docs.python-requests.org/en/master/ "
   ]
  },
  {
   "cell_type": "markdown",
   "metadata": {},
   "source": [
    "Finally, apart from the *requests* package, you are encouraged to not use any third party Python packages, such as *pandas*, and instead focus on what's available in the Python Standard Library (the *collections* module might come in handy: https://pymotw.com/3/collections/ ).\n",
    "Also, since you won't have access to DataFrames, you are encouraged to us Python's native data structures - preferably dictionaries, though some questions can also be answered using lists.\n",
    "You can read more on these data structures here: https://docs.python.org/3/tutorial/datastructures.html"
   ]
  },
  {
   "cell_type": "markdown",
   "metadata": {},
   "source": [
    "Keep in mind that the JSON responses you will be getting from the API map almost one-to-one to Python's dictionaries. Unfortunately, they can be very nested, so make sure you read up on indexing dictionaries in the documentation provided above."
   ]
  },
  {
   "cell_type": "code",
   "execution_count": 2,
   "metadata": {},
   "outputs": [],
   "source": [
    "# First, import the relevant modules\n",
    "\n",
    "# Import package\n",
    "import requests\n",
    "import json\n",
    "\n"
   ]
  },
  {
   "cell_type": "code",
   "execution_count": 45,
   "metadata": {
    "scrolled": true
   },
   "outputs": [
    {
     "name": "stdout",
     "output_type": "stream",
     "text": [
      "{\"dataset\":{\"id\":10095370,\"dataset_code\":\"AFX_X\",\"database_code\":\"FSE\",\"name\":\"Carl Zeiss Meditec (AFX_X)\",\"description\":\"Stock Prices for Carl Zeiss Meditec (2020-11-02) from the Frankfurt Stock Exchange.\\u003cbr\\u003e\\u003cbr\\u003eTrading System: Xetra\\u003cbr\\u003e\\u003cbr\\u003eISIN: DE0005313704\",\"refreshed_at\":\"2020-12-01T14:48:09.907Z\",\"newest_available_date\":\"2020-12-01\",\"oldest_available_date\":\"2000-06-07\",\"column_names\":[\"Date\",\"Open\"],\"frequency\":\"daily\",\"type\":\"Time Series\",\"premium\":false,\"limit\":null,\"transform\":\"rdiff\",\"column_index\":1,\"start_date\":\"2017-01-01\",\"end_date\":\"2017-12-31\",\"data\":[[\"2017-12-29\",0.0021297192642788],[\"2017-12-28\",0.0038872691933916],[\"2017-12-27\",0.0078354554358473],[\"2017-12-22\",-0.0021501172791243],[\"2017-12-21\",-0.013878180416346],[\"2017-12-20\",-0.016119855869524],[\"2017-12-19\",0.0068741645980523],[\"2017-12-18\",-0.0062618595825428],[\"2017-12-15\",-0.0077198267746186],[\"2017-12-14\",0.0089285714285714],[\"2017-12-13\",0.0066934404283802],[\"2017-12-12\",0.00019127773527158],[\"2017-12-11\",0.015145631067961],[\"2017-12-08\",0.011986637846335],[\"2017-12-07\",0.0017716535433072],[\"2017-12-06\",-0.0080062487795353],[\"2017-12-05\",0.034545454545455],[\"2017-12-04\",-0.00040387722132478],[\"2017-12-01\",0.018092105263158],[\"2017-11-30\",-0.020145044319098],[\"2017-11-29\",0.01120391118354],[\"2017-11-28\",-0.00081416649704863],[\"2017-11-27\",0.00040724903278361],[\"2017-11-24\",0.0063524590163935],[\"2017-11-23\",0.0082644628099173],[\"2017-11-22\",0.024338624338624],[\"2017-11-21\",0.014601674898003],[\"2017-11-20\",-0.0097809908568999],[\"2017-11-17\",-0.001274155871735],[\"2017-11-16\",-0.018549395581492],[\"2017-11-15\",-0.0086776859504133],[\"2017-11-14\",0.00041339396444804],[\"2017-11-13\",0.022832980972516],[\"2017-11-10\",-0.0073452256033578],[\"2017-11-09\",0.026497199482981],[\"2017-11-08\",0.0056325823223571],[\"2017-11-07\",0.0076402532198209],[\"2017-11-06\",0.018],[\"2017-11-03\",-0.019180470793374],[\"2017-11-02\",-0.0088572045798228],[\"2017-11-01\",-0.0051579626047712],[\"2017-10-30\",0.023087071240106],[\"2017-10-27\",0.0061946902654866],[\"2017-10-26\",0.0042212841590759],[\"2017-10-25\",-0.0033215234720992],[\"2017-10-24\",0.0057906458797327],[\"2017-10-23\",-0.0039929015084294],[\"2017-10-20\",-0.013998250218723],[\"2017-10-19\",-0.0063029776135622],[\"2017-10-18\",0.004585152838428],[\"2017-10-17\",0.0041657531243148],[\"2017-10-16\",0.0024175824175824],[\"2017-10-13\",-0.0017551557700746],[\"2017-10-12\",-0.0084837937785512],[\"2017-10-11\",0.0072304995617879],[\"2017-10-10\",-0.012121212121212],[\"2017-10-09\",0.00021649707728957],[\"2017-10-06\",0.0039121930015214],[\"2017-10-05\",0.014329805996473],[\"2017-10-04\",0.019096832172546],[\"2017-10-02\",0.021340064249656],[\"2017-09-29\",0.037619047619048],[\"2017-09-28\",-0.0082644628099174],[\"2017-09-27\",0.0011820330969268],[\"2017-09-26\",0.0],[\"2017-09-25\",0.01976856316297],[\"2017-09-22\",-0.019153464175928],[\"2017-09-21\",-0.0058768218147626],[\"2017-09-20\",-0.0025791324736225],[\"2017-09-19\",0.0035294117647058],[\"2017-09-18\",0.0049657129344999],[\"2017-09-15\",-0.0014167650531287],[\"2017-09-14\",-0.0032948929159802],[\"2017-09-13\",-0.01666280953483],[\"2017-09-12\",0.0093436113057696],[\"2017-09-11\",0.002576112412178],[\"2017-09-08\",-0.0069767441860464],[\"2017-09-07\",0.0079699953117676],[\"2017-09-06\",-0.0079069767441861],[\"2017-09-05\",0.014629542236904],[\"2017-09-04\",0.0052182163187857],[\"2017-09-01\",0.0038095238095237],[\"2017-08-31\",0.0],[\"2017-08-30\",0.0069527691201151],[\"2017-08-29\",-0.0094989313702208],[\"2017-08-28\",-0.012429643527205],[\"2017-08-25\",-0.0018726591760299],[\"2017-08-24\",-0.0023353573096684],[\"2017-08-23\",0.0084785680640603],[\"2017-08-22\",0.00094295143800092],[\"2017-08-21\",0.0033112582781457],[\"2017-08-18\",0.0095510983763132],[\"2017-08-17\",-0.012264150943396],[\"2017-08-16\",-0.0030566658829062],[\"2017-08-15\",0.0097340930674265],[\"2017-08-14\",0.019854721549637],[\"2017-08-11\",-0.010304337407141],[\"2017-08-10\",-0.040689655172414],[\"2017-08-09\",-0.031180400890869],[\"2017-08-08\",-0.02071973827699],[\"2017-08-07\",0.015953910923997],[\"2017-08-04\",-0.0046316718129687],[\"2017-08-03\",0.0019889502762432],[\"2017-08-02\",0.00022104332449156],[\"2017-08-01\",0.0066755674232311],[\"2017-07-31\",-0.0070702607158639],[\"2017-07-28\",0.0022143489813995],[\"2017-07-27\",0.0055666889334224],[\"2017-07-26\",0.0046979865771811],[\"2017-07-25\",-0.013462811741337],[\"2017-07-24\",-0.0057055080096554],[\"2017-07-21\",-0.0037166593790993],[\"2017-07-20\",0.015090989791389],[\"2017-07-19\",-0.0096703296703296],[\"2017-07-18\",-0.0021929824561404],[\"2017-07-17\",0.011759485245174],[\"2017-07-14\",0.0089545556301768],[\"2017-07-13\",0.0085798148566268],[\"2017-07-12\",-0.014463729417],[\"2017-07-11\",0.0067204301075268],[\"2017-07-10\",-0.0033489618218352],[\"2017-07-07\",-0.015604395604396],[\"2017-07-06\",0.018580702932617],[\"2017-07-05\",-0.025310931704124],[\"2017-07-04\",0.011923161845882],[\"2017-07-03\",0.0062208398133748],[\"2017-06-30\",-0.015744587797944],[\"2017-06-29\",-0.020351328191945],[\"2017-06-28\",-0.011645140800339],[\"2017-06-27\",0.0059637912673055],[\"2017-06-26\",-0.0071896806935926],[\"2017-06-23\",0.0055283861365086],[\"2017-06-22\",-0.0090602612726506],[\"2017-06-21\",0.021084337349398],[\"2017-06-20\",-0.008955223880597],[\"2017-06-19\",0.027157249233465],[\"2017-06-16\",-0.014674147604661],[\"2017-06-15\",-0.0038693035253654],[\"2017-06-14\",0.00043010752688179],[\"2017-06-13\",-0.01712111604312],[\"2017-06-12\",0.011545862732521],[\"2017-06-09\",-0.021548117154812],[\"2017-06-08\",0.016804935120187],[\"2017-06-07\",-0.0023344651952462],[\"2017-06-06\",0.0068376068376068],[\"2017-06-02\",0.014744145706852],[\"2017-06-01\",0.019902697921274],[\"2017-05-31\",0.0037735849056604],[\"2017-05-30\",-0.012278009208507],[\"2017-05-29\",0.018080357142857],[\"2017-05-26\",0.0],[\"2017-05-25\",0.020036429872495],[\"2017-05-24\",0.0057247538355851],[\"2017-05-23\",-0.011096014492754],[\"2017-05-22\",0.0096021947873798],[\"2017-05-19\",-0.0059090909090909],[\"2017-05-18\",-0.02352418996893],[\"2017-05-17\",-0.0019933554817275],[\"2017-05-16\",0.0013306719893545],[\"2017-05-15\",-0.0019920318725099],[\"2017-05-12\",0.041013824884793],[\"2017-05-11\",-0.0022988505747127],[\"2017-05-10\",0.039923499880469],[\"2017-05-09\",-0.027209302325581],[\"2017-05-08\",0.011288805268109],[\"2017-05-05\",0.015766841853798],[\"2017-05-04\",-0.0080568720379148],[\"2017-05-03\",0.0074003342086417],[\"2017-05-02\",-0.0066397913208442],[\"2017-04-28\",0.015899783184775],[\"2017-04-27\",-0.0088347659980899],[\"2017-04-26\",-0.0011924636298592],[\"2017-04-25\",-0.0019043084979766],[\"2017-04-24\",0.00095306171074575],[\"2017-04-21\",-0.012470588235294],[\"2017-04-20\",0.013352408202194],[\"2017-04-19\",-0.0071022727272728],[\"2017-04-18\",0.0042796005706134],[\"2017-04-13\",0.00095192765349831],[\"2017-04-12\",0.0096107640557426],[\"2017-04-11\",0.0038591413410515],[\"2017-04-10\",0.013691931540342],[\"2017-04-07\",-0.0014648437500001],[\"2017-04-06\",-0.0034063260340633],[\"2017-04-05\",0.040506329113924],[\"2017-04-04\",-0.016189290161893],[\"2017-04-03\",0.0095549409102337],[\"2017-03-31\",-0.0062468765617191],[\"2017-03-30\",0.015993907083016],[\"2017-03-29\",0.011296534017972],[\"2017-03-28\",0.0056803511489803],[\"2017-03-27\",-0.0053929121725732],[\"2017-03-24\",-0.0017944116893104],[\"2017-03-23\",0.019869281045752],[\"2017-03-22\",-0.084928229665072],[\"2017-03-21\",0.01308773630635],[\"2017-03-20\",-0.0050639016156258],[\"2017-03-17\",0.0016908212560387],[\"2017-03-16\",0.0],[\"2017-03-15\",0.0048543689320387],[\"2017-03-14\",-0.004830917874396],[\"2017-03-13\",-0.0031302672766675],[\"2017-03-10\",-0.0019226147560682],[\"2017-03-09\",0.011670313639679],[\"2017-03-08\",-0.0089156626506024],[\"2017-03-07\",0.0060606060606061],[\"2017-03-06\",0.0031614785992218],[\"2017-03-03\",-0.0062832286128566],[\"2017-03-02\",0.0046127700898277],[\"2017-03-01\",0.020059435364042],[\"2017-02-28\",0.015849056603774],[\"2017-02-27\",-0.00050289162685449],[\"2017-02-24\",0.0012588116817725],[\"2017-02-23\",0.003030303030303],[\"2017-02-22\",0.019305019305019],[\"2017-02-21\",-0.010191082802548],[\"2017-02-20\",0.01159793814433],[\"2017-02-17\",0.0],[\"2017-02-16\",0.0077922077922077],[\"2017-02-15\",-0.0079876320535945],[\"2017-02-14\",0.038533583088039],[\"2017-02-13\",0.019645293315143],[\"2017-02-10\",0.012430939226519],[\"2017-02-09\",0.0061145080600335],[\"2017-02-08\",0.011811023622047],[\"2017-02-07\",-0.013865779256794],[\"2017-02-06\",0.0011104941699056],[\"2017-02-03\",0.0019471488178025],[\"2017-02-02\",0.03453237410072],[\"2017-02-01\",-0.013904653802497],[\"2017-01-31\",-0.0039570378745054],[\"2017-01-30\",0.015790984783233],[\"2017-01-27\",-0.0068434559452524],[\"2017-01-26\",0.018884369552586],[\"2017-01-25\",0.012352941176471],[\"2017-01-24\",-0.0011750881316098],[\"2017-01-23\",-0.014475969889983],[\"2017-01-20\",-0.014269406392694],[\"2017-01-19\",0.0],[\"2017-01-18\",-0.00057045065601834],[\"2017-01-17\",0.006025824964132],[\"2017-01-16\",-0.0037164093767866],[\"2017-01-13\",-0.011305822498587],[\"2017-01-12\",0.012303290414878],[\"2017-01-11\",0.0043103448275864],[\"2017-01-10\",-0.013884953244545],[\"2017-01-09\",0.010885133199656],[\"2017-01-06\",-0.003141062250143],[\"2017-01-05\",-0.012965050732807],[\"2017-01-04\",-0.011699164345404],[\"2017-01-03\",0.026007430694484]],\"collapse\":\"daily\",\"order\":null,\"database_id\":6129}}\n"
     ]
    }
   ],
   "source": [
    "# Now, call the Quandl API and pull out a small sample of the data (only one day) to get a glimpse\n",
    "# into the JSON structure that will be returned\n",
    "\n",
    "\n",
    "# Specify the url: url\n",
    "#url_12m =\"https://www.quandl.com/api/v3/datasets/FSE/AFX_X.json?column_index=1&start_date=2017-01-01&end_date=2017-12-31&collapse=daily&transform=rdiff&api_key=LgWgRBMrCYopB69hv2XX\"\n",
    "#url_1d=\"https://www.quandl.com/api/v3/datasets/FSE/AFX_X.json?column_index=1&start_date=2017-01-01&end_date=2017-01-03&collapse=daily&transform=rdiff&api_key=LgWgRBMrCYopB69hv2XX\"\n",
    "#url_12m =\"https://www.quandl.com/api/v3/datasets/FSE/AFX_X.json?column_index=1&start_date=2017-01-01&end_date=2017-12-31&collapse=daily&transform=rdiff&api_key=LgWgRBMrCYopB69hv2XX\"\n",
    "url_1d=\"https://www.quandl.com/api/v3/datasets/FSE/AFX_X.json?column_index=1&start_date=2017-01-01&end_date=2017-01-03&api_key=LgWgRBMrCYopB69hv2XX\"\n",
    "\n",
    "\n",
    "# Packages the request, send the request and catch the response: r\n",
    "r=requests.get(url_12m)\n",
    "\n",
    "# Extract the response: text\n",
    "text=r.text\n",
    "\n",
    "# Print the html\n",
    "print(text)\n",
    "\n"
   ]
  },
  {
   "cell_type": "code",
   "execution_count": 43,
   "metadata": {},
   "outputs": [
    {
     "data": {
      "text/plain": [
       "-0.084928229665072"
      ]
     },
     "execution_count": 43,
     "metadata": {},
     "output_type": "execute_result"
    }
   ],
   "source": [
    "# Inspect the JSON structure of the object you created, and take note of how nested it is,\n",
    "# as well as the overall structure\n",
    "\n",
    "# Decode the JSON data into a dictionary: json_data\n",
    "json_data=r.json()\n",
    "\n",
    "index_open = json_data['dataset']['column_names'].index('Open')\n",
    "\n",
    "index_date = json_data['dataset']['column_names'].index('Date')\n",
    "open_price = [day[index_open] for day in json_data['dataset']['data'] if day[index_open]]\n",
    "open_price\n",
    "\n",
    "# 3. Calculate what the highest and lowest opening prices were for the stock in this period.\n",
    "\n",
    "#high \n",
    "max(open_price)\n",
    "#low \n",
    "min(open_price)\n",
    "\n",
    "#4. What was the largest change in any one day (based on High and Low price)?\n",
    "#5. What was the largest change between any two days (based on Closing Price)?\n",
    "#6. What was the average daily trading volume during this year?\n",
    "#7. (Optional) What was the median trading volume during this year. (Note: you may need to implement your own function for calculating the median.)\n"
   ]
  },
  {
   "cell_type": "markdown",
   "metadata": {},
   "source": [
    "These are your tasks for this mini project:\n",
    "\n",
    "1. Collect data from the Franfurt Stock Exchange, for the ticker AFX_X, for the whole year 2017 (keep in mind that the date format is YYYY-MM-DD).\n",
    "2. Convert the returned JSON object into a Python dictionary.\n",
    "3. Calculate what the highest and lowest opening prices were for the stock in this period.\n",
    "4. What was the largest change in any one day (based on High and Low price)?\n",
    "5. What was the largest change between any two days (based on Closing Price)?\n",
    "6. What was the average daily trading volume during this year?\n",
    "7. (Optional) What was the median trading volume during this year. (Note: you may need to implement your own function for calculating the median.)"
   ]
  }
 ],
 "metadata": {
  "kernelspec": {
   "display_name": "Python 3",
   "language": "python",
   "name": "python3"
  },
  "language_info": {
   "codemirror_mode": {
    "name": "ipython",
    "version": 3
   },
   "file_extension": ".py",
   "mimetype": "text/x-python",
   "name": "python",
   "nbconvert_exporter": "python",
   "pygments_lexer": "ipython3",
   "version": "3.8.5"
  }
 },
 "nbformat": 4,
 "nbformat_minor": 2
}
