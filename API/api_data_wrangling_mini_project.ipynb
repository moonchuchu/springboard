{
 "cells": [
  {
   "cell_type": "markdown",
   "metadata": {},
   "source": [
    "This exercise will require you to pull some data from the Qunadl API. Qaundl is currently the most widely used aggregator of financial market data."
   ]
  },
  {
   "cell_type": "markdown",
   "metadata": {},
   "source": [
    "As a first step, you will need to register a free account on the http://www.quandl.com website."
   ]
  },
  {
   "cell_type": "markdown",
   "metadata": {},
   "source": [
    "After you register, you will be provided with a unique API key, that you should store:"
   ]
  },
  {
   "cell_type": "code",
   "execution_count": 1,
   "metadata": {},
   "outputs": [],
   "source": [
    "# Store the API key as a string - according to PEP8, constants are always named in all upper case\n",
    "API_KEY = 'LgWgRBMrCYopB69hv2XX'"
   ]
  },
  {
   "cell_type": "markdown",
   "metadata": {},
   "source": [
    "Qaundl has a large number of data sources, but, unfortunately, most of them require a Premium subscription. Still, there are also a good number of free datasets."
   ]
  },
  {
   "cell_type": "markdown",
   "metadata": {},
   "source": [
    "For this mini project, we will focus on equities data from the Frankfurt Stock Exhange (FSE), which is available for free. We'll try and analyze the stock prices of a company called Carl Zeiss Meditec, which manufactures tools for eye examinations, as well as medical lasers for laser eye surgery: https://www.zeiss.com/meditec/int/home.html. The company is listed under the stock ticker AFX_X."
   ]
  },
  {
   "cell_type": "markdown",
   "metadata": {},
   "source": [
    "You can find the detailed Quandl API instructions here: https://docs.quandl.com/docs/time-series"
   ]
  },
  {
   "cell_type": "markdown",
   "metadata": {},
   "source": [
    "While there is a dedicated Python package for connecting to the Quandl API, we would prefer that you use the *requests* package, which can be easily downloaded using *pip* or *conda*. You can find the documentation for the package here: http://docs.python-requests.org/en/master/ "
   ]
  },
  {
   "cell_type": "markdown",
   "metadata": {},
   "source": [
    "Finally, apart from the *requests* package, you are encouraged to not use any third party Python packages, such as *pandas*, and instead focus on what's available in the Python Standard Library (the *collections* module might come in handy: https://pymotw.com/3/collections/ ).\n",
    "Also, since you won't have access to DataFrames, you are encouraged to us Python's native data structures - preferably dictionaries, though some questions can also be answered using lists.\n",
    "You can read more on these data structures here: https://docs.python.org/3/tutorial/datastructures.html"
   ]
  },
  {
   "cell_type": "markdown",
   "metadata": {},
   "source": [
    "Keep in mind that the JSON responses you will be getting from the API map almost one-to-one to Python's dictionaries. Unfortunately, they can be very nested, so make sure you read up on indexing dictionaries in the documentation provided above."
   ]
  },
  {
   "cell_type": "code",
   "execution_count": 56,
   "metadata": {},
   "outputs": [],
   "source": [
    "# First, import the relevant modules\n",
    "\n",
    "# Import package\n",
    "import requests\n",
    "import json\n",
    "\n"
   ]
  },
  {
   "cell_type": "code",
   "execution_count": 94,
   "metadata": {
    "scrolled": true
   },
   "outputs": [],
   "source": [
    "# Now, call the Quandl API and pull out a small sample of the data (only one day) to get a glimpse\n",
    "# into the JSON structure that will be returned\n",
    "\n",
    "# Specify the url: url\n",
    "url_12m_open =\"https://www.quandl.com/api/v3/datasets/FSE/AFX_X.json?column_index=1&start_date=2017-01-01&end_date=2017-12-31&api_key=LgWgRBMrCYopB69hv2XX\"\n",
    "url_12m_high =\"https://www.quandl.com/api/v3/datasets/FSE/AFX_X.json?column_index=2&start_date=2017-01-01&end_date=2017-12-31&api_key=LgWgRBMrCYopB69hv2XX\"\n",
    "url_12m_low =\"https://www.quandl.com/api/v3/datasets/FSE/AFX_X.json?column_index=3&start_date=2017-01-01&end_date=2017-12-31&api_key=LgWgRBMrCYopB69hv2XX\"\n",
    "url_12m_closing =\"https://www.quandl.com/api/v3/datasets/FSE/AFX_X.json?column_index=4&start_date=2017-01-01&end_date=2017-12-31&api_key=LgWgRBMrCYopB69hv2XX\"\n",
    "url_12m_volume =\"https://www.quandl.com/api/v3/datasets/FSE/AFX_X.json?column_index=6&start_date=2017-01-01&end_date=2017-12-31&api_key=LgWgRBMrCYopB69hv2XX\"\n",
    "url_12m_date =\"https://www.quandl.com/api/v3/datasets/FSE/AFX_X.json?column_index=0&start_date=2017-01-01&end_date=2017-12-31&api_key=LgWgRBMrCYopB69hv2XX\"\n",
    "\n",
    "#url_1d=\"https://www.quandl.com/api/v3/datasets/FSE/AFX_X.json?column_index=1&start_dhate=2017-01-01&end_date=2017-01-03&api_key=LgWgRBMrCYopB69hv2XX\"\n",
    "\n",
    "# Packages the request, send the request and catch the response: r\n",
    "o=requests.get(url_12m_open)\n",
    "h=requests.get(url_12m_high)\n",
    "l=requests.get(url_12m_low)\n",
    "c=requests.get(url_12m_closing)\n",
    "v=requests.get(url_12m_volume)\n",
    "e=requests.get(url_12m_date)\n"
   ]
  },
  {
   "cell_type": "code",
   "execution_count": 93,
   "metadata": {},
   "outputs": [
    {
     "data": {
      "text/plain": [
       "89124.33725490196"
      ]
     },
     "execution_count": 93,
     "metadata": {},
     "output_type": "execute_result"
    }
   ],
   "source": [
    "# Inspect the JSON structure of the object you created, and take note of how nested it is,\n",
    "# as well as the overall structure\n",
    "import pandas as pd\n",
    "\n",
    "# Decode the JSON data into a dictionary: json_data\n",
    "#json_data=e.json()\n",
    "#index_date = json_data['dataset']['column_names'].index('Date')\n",
    "#dt = [day[index_change] for day in json_data['dataset']['data'] if day[index_date]]\n",
    "#dt\n",
    "\n",
    "json_data=o.json()\n",
    "index_open = json_data['dataset']['column_names'].index('Open')\n",
    "open_price = [day[index_open] for day in json_data['dataset']['data'] if day[index_open]]\n",
    "open_price\n",
    "\n",
    "json_data=h.json()\n",
    "index_high = json_data['dataset']['column_names'].index('High')\n",
    "high_price = [day[index_high] for day in json_data['dataset']['data'] if day[index_high]]\n",
    "high_price\n",
    "\n",
    "json_data=l.json()\n",
    "index_low = json_data['dataset']['column_names'].index('Low')\n",
    "low_price = [day[index_low] for day in json_data['dataset']['data'] if day[index_low]]\n",
    "low_price\n",
    "\n",
    "json_data=c.json()\n",
    "index_close = json_data['dataset']['column_names'].index('Close')\n",
    "close_price = [day[index_close] for day in json_data['dataset']['data'] if day[index_close]]\n",
    "\n",
    "json_data=v.json()\n",
    "volume = json_data['dataset']['column_names'].index('Traded Volume')\n",
    "volume = [day[volume] for day in json_data['dataset']['data'] if day[volume]]\n",
    "\n",
    "mydf = pd.DataFrame(list(zip(open_price, high_price, low_price, close_price)), columns = ['open_price','high_price','low_price','close_price'])\n",
    "\n",
    "# 3. Calculate what the highest and lowest opening prices were for the stock in this period.\n",
    "max(open_price)\n",
    "min(open_price)\n",
    "\n",
    "#4. What was the largest change in any one day (based on High and Low price)?\n",
    "mydf['delta']=mydf['high_price']-mydf['low_price']\n",
    "max(mydf['delta'])\n",
    "\n",
    "#5. What was the largest change between any two days (based on Closing Price)?\n",
    "max(close_price) - min(close_price)\n",
    "\n",
    "#6. What was the average daily trading volume during this year?\n",
    "sum(volume)/len(volume)\n",
    "\n",
    "#7. (Optional) What was the median trading volume during this year. (Note: you may need to implement your own function for calculating the median.)\n"
   ]
  },
  {
   "cell_type": "markdown",
   "metadata": {},
   "source": [
    "These are your tasks for this mini project:\n",
    "\n",
    "1. Collect data from the Franfurt Stock Exchange, for the ticker AFX_X, for the whole year 2017 (keep in mind that the date format is YYYY-MM-DD).\n",
    "2. Convert the returned JSON object into a Python dictionary.\n",
    "3. Calculate what the highest and lowest opening prices were for the stock in this period.\n",
    "4. What was the largest change in any one day (based on High and Low price)?\n",
    "5. What was the largest change between any two days (based on Closing Price)?\n",
    "6. What was the average daily trading volume during this year?\n",
    "7. (Optional) What was the median trading volume during this year. (Note: you may need to implement your own function for calculating the median.)"
   ]
  }
 ],
 "metadata": {
  "kernelspec": {
   "display_name": "Python 3",
   "language": "python",
   "name": "python3"
  },
  "language_info": {
   "codemirror_mode": {
    "name": "ipython",
    "version": 3
   },
   "file_extension": ".py",
   "mimetype": "text/x-python",
   "name": "python",
   "nbconvert_exporter": "python",
   "pygments_lexer": "ipython3",
   "version": "3.8.5"
  }
 },
 "nbformat": 4,
 "nbformat_minor": 2
}
